{
 "cells": [
  {
   "cell_type": "code",
   "execution_count": 29,
   "metadata": {},
   "outputs": [],
   "source": [
    "import os\n",
    "import tensorflow as tf\n",
    "from tensorflow.keras.preprocessing.image import ImageDataGenerator\n",
    "from tensorflow.keras.models import Model\n",
    "from tensorflow.keras.layers import Input, Dense, Flatten, Dropout\n",
    "from tensorflow.keras.applications import EfficientNetB0\n",
    "from sklearn.model_selection import train_test_split"
   ]
  },
  {
   "cell_type": "code",
   "execution_count": 30,
   "metadata": {},
   "outputs": [],
   "source": [
    "# Define constants\n",
    "IMAGE_DIR = \"C:\\\\Users\\\\willi\\\\Documents\\\\Drexel\\\\Fall Quart 5\\\\MEM 679 - Machine Learning\\\\pokemon_images\\\\Pokemon_Dataset_Subset\"\n",
    "IMG_SIZE = (224, 224) #Images will be resized to 244 x 244\n",
    "BATCH_SIZE = 32 #Number of images to process at a time"
   ]
  },
  {
   "cell_type": "code",
   "execution_count": 31,
   "metadata": {},
   "outputs": [],
   "source": [
    "# Function to parse labels from filenames\n",
    "def parse_filename(filename):\n",
    "    \"\"\"\n",
    "    Parses the filename to extract metadata.\n",
    "\n",
    "    Args:\n",
    "        filename (str): The name of the image file.\n",
    "\n",
    "    Returns:\n",
    "        pokemon_name (str): Name of Pokemon\n",
    "        shiny_form (int): 1 if Pokemon is shiny, 0 if Pokemon is Normal\n",
    "        gender (str): Gender of Pokemon\n",
    "\n",
    "    \"\"\"\n",
    "    parts = filename.replace('.png', '').split(' ')\n",
    "    location_name = parts[0]\n",
    "    shiny = 1 if 'Shiny' in parts else 0\n",
    "    gender = 'Unknown'\n",
    "    if 'Male & Female' in filename:\n",
    "        gender = 'Male & Female'\n",
    "    elif 'Male' in filename:\n",
    "        gender = 'Male'\n",
    "    elif 'Female' in filename:\n",
    "        gender = 'Female'\n",
    "    \n",
    "    location, name = location_name.split('_', 1)\n",
    "    \n",
    "    return name, shiny, gender"
   ]
  },
  {
   "cell_type": "code",
   "execution_count": 32,
   "metadata": {},
   "outputs": [],
   "source": [
    "# Load dataset\n",
    "data = []\n",
    "labels_name = []\n",
    "labels_shiny = []\n",
    "labels_gender = []\n",
    "\n",
    "for file in os.listdir(IMAGE_DIR):\n",
    "    if file.endswith((\".png\")):\n",
    "        filepath = os.path.join(IMAGE_DIR, file)\n",
    "        name, shiny, gender = parse_filename(file)\n",
    "        data.append(filepath)\n",
    "        labels_name.append(name)\n",
    "        labels_shiny.append(shiny)\n",
    "        labels_gender.append(gender)"
   ]
  },
  {
   "cell_type": "code",
   "execution_count": null,
   "metadata": {},
   "outputs": [],
   "source": [
    "# Preprocess labels\n",
    "unique_names = sorted(set(labels_name))\n",
    "unique_genders = [\"Male\", \"Female\", \"Male & emale\"]\n",
    "\n",
    "name_to_idx = {name: i for i, name in enumerate(unique_names)}\n",
    "gender_to_idx = {gender: i for i, gender in enumerate(unique_genders)}\n",
    "\n",
    "y_name = [name_to_idx[name] for name in labels_name]\n",
    "y_shiny = labels_shiny\n",
    "y_gender = [gender_to_idx[gender] for gender in labels_gender]\n",
    "\n",
    "# Split data\n",
    "train_data, val_data, train_labels, val_labels = train_test_split(\n",
    "    data, list(zip(y_name, y_shiny, y_gender)), test_size=0.2, random_state=42\n",
    ")"
   ]
  },
  {
   "cell_type": "code",
   "execution_count": null,
   "metadata": {},
   "outputs": [
    {
     "name": "stdout",
     "output_type": "stream",
     "text": [
      "[1, 0, 1, 0, 2, 2, 2, 2, 2, 2, 2, 2, 2, 2, 1, 0, 1, 0, 1, 0, 1, 0, 0, 2, 2, 2, 2, 2, 2, 2, 2, 2, 2, 1, 0, 1, 0, 2, 2, 2, 2, 2, 2, 1, 0, 1, 0, 2, 2, 2, 2, 2, 2, 2, 2, 2, 2, 2, 1, 0, 1, 0, 2, 2]\n"
     ]
    }
   ],
   "source": []
  }
 ],
 "metadata": {
  "kernelspec": {
   "display_name": "PokemonIdentifier",
   "language": "python",
   "name": "python3"
  },
  "language_info": {
   "codemirror_mode": {
    "name": "ipython",
    "version": 3
   },
   "file_extension": ".py",
   "mimetype": "text/x-python",
   "name": "python",
   "nbconvert_exporter": "python",
   "pygments_lexer": "ipython3",
   "version": "3.11.10"
  }
 },
 "nbformat": 4,
 "nbformat_minor": 2
}
