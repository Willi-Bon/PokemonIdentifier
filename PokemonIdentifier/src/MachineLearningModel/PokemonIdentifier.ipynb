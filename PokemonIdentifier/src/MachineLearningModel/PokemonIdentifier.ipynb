{
 "cells": [
  {
   "cell_type": "code",
   "execution_count": 29,
   "metadata": {},
   "outputs": [],
   "source": [
    "import os\n",
    "import tensorflow as tf\n",
    "from tensorflow.keras.preprocessing.image import ImageDataGenerator\n",
    "from tensorflow.keras.models import Model\n",
    "from tensorflow.keras.layers import Input, Dense, Flatten, Dropout\n",
    "from tensorflow.keras.applications import EfficientNetB0\n",
    "from sklearn.model_selection import train_test_split"
   ]
  },
  {
   "cell_type": "code",
   "execution_count": null,
   "metadata": {},
   "outputs": [],
   "source": [
    "# Define constants\n",
    "#IMAGE_DIR = \"C:\\\\Users\\\\willi\\\\Documents\\\\Drexel\\\\Fall Quart 5\\\\MEM 679 - Machine Learning\\\\pokemon_images\\\\Pokemon_Dataset_Subset\"\n",
    "IMAGE_DIR = \"C:\\\\Users\\\\willi\\\\Documents\\\\Drexel\\\\Fall Quart 5\\\\MEM 679 - Machine Learning\\\\pokemon_images\\\\Pokemon_Dataset_Full\"\n",
    "IMG_SIZE = (224, 224) #Images will be resized to 244 x 244\n",
    "BATCH_SIZE = 32 #Number of images to process at a time"
   ]
  },
  {
   "cell_type": "code",
   "execution_count": 31,
   "metadata": {},
   "outputs": [],
   "source": [
    "# Function to parse labels from filenames\n",
    "def parse_filename(filename):\n",
    "    \"\"\"\n",
    "    Parses the filename to extract metadata.\n",
    "\n",
    "    Args:\n",
    "        filename (str): The name of the image file.\n",
    "\n",
    "    Returns:\n",
    "        pokemon_name (str): Name of Pokemon\n",
    "        shiny_form (int): 1 if Pokemon is shiny, 0 if Pokemon is Normal\n",
    "        gender (str): Gender of Pokemon\n",
    "\n",
    "    \"\"\"\n",
    "    parts = filename.replace('.png', '').split(' ')\n",
    "    location_name = parts[0]\n",
    "    shiny = 1 if 'Shiny' in parts else 0\n",
    "    gender = 'Unknown'\n",
    "    if 'Male & Female' in filename:\n",
    "        gender = 'Male & Female'\n",
    "    elif 'Male' in filename:\n",
    "        gender = 'Male'\n",
    "    elif 'Female' in filename:\n",
    "        gender = 'Female'\n",
    "    \n",
    "    location, name = location_name.split('_', 1)\n",
    "    \n",
    "    return name, shiny, gender"
   ]
  },
  {
   "cell_type": "code",
   "execution_count": 32,
   "metadata": {},
   "outputs": [],
   "source": [
    "# Load dataset\n",
    "data = []\n",
    "labels_name = []\n",
    "labels_shiny = []\n",
    "labels_gender = []\n",
    "\n",
    "for file in os.listdir(IMAGE_DIR):\n",
    "    if file.endswith((\".png\")):\n",
    "        filepath = os.path.join(IMAGE_DIR, file)\n",
    "        name, shiny, gender = parse_filename(file)\n",
    "        data.append(filepath)\n",
    "        labels_name.append(name)\n",
    "        labels_shiny.append(shiny)\n",
    "        labels_gender.append(gender)"
   ]
  },
  {
   "cell_type": "code",
   "execution_count": null,
   "metadata": {},
   "outputs": [],
   "source": [
    "# Preprocess labels\n",
    "unique_names = sorted(set(labels_name))\n",
    "unique_genders = [\"Male\", \"Female\", \"Male & emale\"]\n",
    "\n",
    "name_to_idx = {name: i for i, name in enumerate(unique_names)}\n",
    "gender_to_idx = {gender: i for i, gender in enumerate(unique_genders)}\n",
    "\n",
    "y_name = [name_to_idx[name] for name in labels_name]\n",
    "y_shiny = labels_shiny\n",
    "y_gender = [gender_to_idx[gender] for gender in labels_gender]\n",
    "\n",
    "# Split data\n",
    "train_data, val_data, train_labels, val_labels = train_test_split(\n",
    "    data, list(zip(y_name, y_shiny, y_gender)), test_size=0.2, random_state=42\n",
    ")"
   ]
  },
  {
   "cell_type": "code",
   "execution_count": 40,
   "metadata": {},
   "outputs": [],
   "source": [
    "# Preprocess images\n",
    "datagen = ImageDataGenerator(rescale=1.0/255.0)\n",
    "\n",
    "def preprocess_images(filepaths, labels, batch_size):\n",
    "    def generator():\n",
    "        for filepath, label in zip(filepaths, labels):\n",
    "            image = tf.keras.utils.load_img(filepath, target_size=IMG_SIZE)\n",
    "            image = tf.keras.utils.img_to_array(image) / 255.0\n",
    "            # Restructure labels into a dictionary for model outputs\n",
    "            label_dict = {\n",
    "                \"name_output\": label[0],\n",
    "                \"shiny_output\": label[1],\n",
    "                \"gender_output\": label[2]\n",
    "            }\n",
    "            yield image, label_dict\n",
    "    return tf.data.Dataset.from_generator(\n",
    "        generator,\n",
    "        output_signature=(\n",
    "            tf.TensorSpec(shape=(*IMG_SIZE, 3), dtype=tf.float32),\n",
    "            {\n",
    "                \"name_output\": tf.TensorSpec(shape=(), dtype=tf.int32),\n",
    "                \"shiny_output\": tf.TensorSpec(shape=(), dtype=tf.int32),\n",
    "                \"gender_output\": tf.TensorSpec(shape=(), dtype=tf.int32),\n",
    "            },\n",
    "        )\n",
    "    ).batch(batch_size)\n",
    "\n",
    "\n",
    "train_dataset = preprocess_images(train_data, train_labels, BATCH_SIZE)\n",
    "val_dataset = preprocess_images(val_data, val_labels, BATCH_SIZE)"
   ]
  },
  {
   "cell_type": "code",
   "execution_count": 41,
   "metadata": {},
   "outputs": [],
   "source": [
    "# Build the model\n",
    "base_model = EfficientNetB0(include_top=False, input_shape=(*IMG_SIZE, 3))\n",
    "x = Flatten()(base_model.output)\n",
    "x = Dropout(0.5)(x)\n",
    "\n",
    "name_output = Dense(len(unique_names), activation=\"softmax\", name=\"name_output\")(x)\n",
    "shiny_output = Dense(1, activation=\"sigmoid\", name=\"shiny_output\")(x)\n",
    "gender_output = Dense(len(unique_genders), activation=\"softmax\", name=\"gender_output\")(x)\n",
    "\n",
    "model = Model(inputs=base_model.input, outputs=[name_output, shiny_output, gender_output])\n",
    "model.compile(optimizer=\"adam\", \n",
    "              loss={\"name_output\": \"sparse_categorical_crossentropy\",\n",
    "                    \"shiny_output\": \"binary_crossentropy\",\n",
    "                    \"gender_output\": \"sparse_categorical_crossentropy\"},\n",
    "              metrics=[\"accuracy\"])"
   ]
  },
  {
   "cell_type": "code",
   "execution_count": 44,
   "metadata": {},
   "outputs": [
    {
     "name": "stdout",
     "output_type": "stream",
     "text": [
      "Epoch 1/10\n"
     ]
    },
    {
     "name": "stdout",
     "output_type": "stream",
     "text": [
      "      2/Unknown \u001b[1m79s\u001b[0m 3s/step - gender_output_accuracy: 0.4072 - gender_output_loss: 2.6716 - loss: 9.6399 - name_output_accuracy: 0.0294 - name_output_loss: 5.6554 - shiny_output_accuracy: 0.4951 - shiny_output_loss: 2.0972     "
     ]
    },
    {
     "name": "stderr",
     "output_type": "stream",
     "text": [
      "c:\\Users\\willi\\Anaconda3\\envs\\PokemonIdentifier\\Lib\\site-packages\\keras\\src\\trainers\\epoch_iterator.py:151: UserWarning: Your input ran out of data; interrupting training. Make sure that your dataset or generator can generate at least `steps_per_epoch * epochs` batches. You may need to use the `.repeat()` function when building your dataset.\n",
      "  self._interrupted_warning()\n"
     ]
    },
    {
     "name": "stdout",
     "output_type": "stream",
     "text": [
      "\u001b[1m2/2\u001b[0m \u001b[32m━━━━━━━━━━━━━━━━━━━━\u001b[0m\u001b[37m\u001b[0m \u001b[1m88s\u001b[0m 12s/step - gender_output_accuracy: 0.4283 - gender_output_loss: 2.5976 - loss: 10.4041 - name_output_accuracy: 0.0392 - name_output_loss: 5.2978 - shiny_output_accuracy: 0.4935 - shiny_output_loss: 2.0543 - val_gender_output_accuracy: 0.5385 - val_gender_output_loss: 0.6133 - val_loss: 6.3727 - val_name_output_accuracy: 0.0000e+00 - val_name_output_loss: 2.1616 - val_shiny_output_accuracy: 0.5385 - val_shiny_output_loss: 0.4114\n",
      "Epoch 2/10\n",
      "\u001b[1m2/2\u001b[0m \u001b[32m━━━━━━━━━━━━━━━━━━━━\u001b[0m\u001b[37m\u001b[0m \u001b[1m13s\u001b[0m 5s/step - gender_output_accuracy: 0.6605 - gender_output_loss: 2.0040 - loss: 8.0396 - name_output_accuracy: 0.3787 - name_output_loss: 3.4311 - shiny_output_accuracy: 0.5039 - shiny_output_loss: 1.5535 - val_gender_output_accuracy: 0.5385 - val_gender_output_loss: 0.5855 - val_loss: 7.2457 - val_name_output_accuracy: 0.0769 - val_name_output_loss: 2.6105 - val_shiny_output_accuracy: 0.5385 - val_shiny_output_loss: 0.4268\n",
      "Epoch 3/10\n",
      "\u001b[1m2/2\u001b[0m \u001b[32m━━━━━━━━━━━━━━━━━━━━\u001b[0m\u001b[37m\u001b[0m \u001b[1m15s\u001b[0m 6s/step - gender_output_accuracy: 0.8172 - gender_output_loss: 0.8253 - loss: 3.3550 - name_output_accuracy: 0.6605 - name_output_loss: 1.2757 - shiny_output_accuracy: 0.6240 - shiny_output_loss: 0.9837 - val_gender_output_accuracy: 0.5385 - val_gender_output_loss: 0.5385 - val_loss: 7.0031 - val_name_output_accuracy: 0.0000e+00 - val_name_output_loss: 2.6119 - val_shiny_output_accuracy: 0.5385 - val_shiny_output_loss: 0.3511\n",
      "Epoch 4/10\n",
      "\u001b[1m2/2\u001b[0m \u001b[32m━━━━━━━━━━━━━━━━━━━━\u001b[0m\u001b[37m\u001b[0m \u001b[1m13s\u001b[0m 5s/step - gender_output_accuracy: 0.7937 - gender_output_loss: 0.5841 - loss: 1.7865 - name_output_accuracy: 0.8903 - name_output_loss: 0.1878 - shiny_output_accuracy: 0.6658 - shiny_output_loss: 0.8151 - val_gender_output_accuracy: 0.2308 - val_gender_output_loss: 0.5530 - val_loss: 6.9029 - val_name_output_accuracy: 0.0000e+00 - val_name_output_loss: 2.5448 - val_shiny_output_accuracy: 0.5385 - val_shiny_output_loss: 0.3537\n",
      "Epoch 5/10\n",
      "\u001b[1m2/2\u001b[0m \u001b[32m━━━━━━━━━━━━━━━━━━━━\u001b[0m\u001b[37m\u001b[0m \u001b[1m13s\u001b[0m 5s/step - gender_output_accuracy: 0.8642 - gender_output_loss: 0.6470 - loss: 1.4037 - name_output_accuracy: 0.9504 - name_output_loss: 0.1386 - shiny_output_accuracy: 0.7206 - shiny_output_loss: 0.5146 - val_gender_output_accuracy: 0.2308 - val_gender_output_loss: 0.5945 - val_loss: 7.0293 - val_name_output_accuracy: 0.0000e+00 - val_name_output_loss: 2.5682 - val_shiny_output_accuracy: 0.5385 - val_shiny_output_loss: 0.3520\n",
      "Epoch 6/10\n",
      "\u001b[1m2/2\u001b[0m \u001b[32m━━━━━━━━━━━━━━━━━━━━\u001b[0m\u001b[37m\u001b[0m \u001b[1m13s\u001b[0m 5s/step - gender_output_accuracy: 0.8930 - gender_output_loss: 0.5959 - loss: 1.5385 - name_output_accuracy: 0.9869 - name_output_loss: 0.0682 - shiny_output_accuracy: 0.7024 - shiny_output_loss: 0.6750 - val_gender_output_accuracy: 0.2308 - val_gender_output_loss: 0.6382 - val_loss: 7.2935 - val_name_output_accuracy: 0.0769 - val_name_output_loss: 2.6582 - val_shiny_output_accuracy: 0.4615 - val_shiny_output_loss: 0.3504\n",
      "Epoch 7/10\n",
      "\u001b[1m2/2\u001b[0m \u001b[32m━━━━━━━━━━━━━━━━━━━━\u001b[0m\u001b[37m\u001b[0m \u001b[1m14s\u001b[0m 5s/step - gender_output_accuracy: 0.8930 - gender_output_loss: 0.1891 - loss: 0.6762 - name_output_accuracy: 0.9869 - name_output_loss: 0.0534 - shiny_output_accuracy: 0.8930 - shiny_output_loss: 0.3468 - val_gender_output_accuracy: 0.2308 - val_gender_output_loss: 0.7362 - val_loss: 8.0098 - val_name_output_accuracy: 0.0769 - val_name_output_loss: 2.9147 - val_shiny_output_accuracy: 0.4615 - val_shiny_output_loss: 0.3539\n",
      "Epoch 8/10\n",
      "\u001b[1m2/2\u001b[0m \u001b[32m━━━━━━━━━━━━━━━━━━━━\u001b[0m\u001b[37m\u001b[0m \u001b[1m14s\u001b[0m 5s/step - gender_output_accuracy: 0.9060 - gender_output_loss: 0.3031 - loss: 0.7544 - name_output_accuracy: 1.0000 - name_output_loss: 0.0040 - shiny_output_accuracy: 0.8094 - shiny_output_loss: 0.3229 - val_gender_output_accuracy: 0.2308 - val_gender_output_loss: 0.9065 - val_loss: 9.1849 - val_name_output_accuracy: 0.0769 - val_name_output_loss: 3.3390 - val_shiny_output_accuracy: 0.4615 - val_shiny_output_loss: 0.3470\n",
      "Epoch 9/10\n",
      "\u001b[1m2/2\u001b[0m \u001b[32m━━━━━━━━━━━━━━━━━━━━\u001b[0m\u001b[37m\u001b[0m \u001b[1m13s\u001b[0m 4s/step - gender_output_accuracy: 0.9034 - gender_output_loss: 0.3062 - loss: 0.7373 - name_output_accuracy: 1.0000 - name_output_loss: 0.0111 - shiny_output_accuracy: 0.9165 - shiny_output_loss: 0.3350 - val_gender_output_accuracy: 0.2308 - val_gender_output_loss: 1.1809 - val_loss: 10.6203 - val_name_output_accuracy: 0.0769 - val_name_output_loss: 3.7749 - val_shiny_output_accuracy: 0.4615 - val_shiny_output_loss: 0.3543\n",
      "Epoch 10/10\n",
      "\u001b[1m2/2\u001b[0m \u001b[32m━━━━━━━━━━━━━━━━━━━━\u001b[0m\u001b[37m\u001b[0m \u001b[1m13s\u001b[0m 5s/step - gender_output_accuracy: 0.9400 - gender_output_loss: 0.1957 - loss: 0.6506 - name_output_accuracy: 0.9739 - name_output_loss: 0.1515 - shiny_output_accuracy: 0.8930 - shiny_output_loss: 0.2501 - val_gender_output_accuracy: 0.2308 - val_gender_output_loss: 1.5484 - val_loss: 12.0674 - val_name_output_accuracy: 0.0769 - val_name_output_loss: 4.0424 - val_shiny_output_accuracy: 0.4615 - val_shiny_output_loss: 0.4429\n"
     ]
    }
   ],
   "source": [
    "# Train the model\n",
    "model.compile(\n",
    "    optimizer=\"adam\",\n",
    "    loss={\n",
    "        \"name_output\": \"sparse_categorical_crossentropy\",\n",
    "        \"shiny_output\": \"binary_crossentropy\",\n",
    "        \"gender_output\": \"sparse_categorical_crossentropy\",\n",
    "    },\n",
    "    metrics={\n",
    "        \"name_output\": [\"accuracy\"],\n",
    "        \"shiny_output\": [\"accuracy\"],\n",
    "        \"gender_output\": [\"accuracy\"],\n",
    "    }\n",
    ")\n",
    "\n",
    "\n",
    "history = model.fit(train_dataset, validation_data=val_dataset, epochs=10)"
   ]
  }
 ],
 "metadata": {
  "kernelspec": {
   "display_name": "PokemonIdentifier",
   "language": "python",
   "name": "python3"
  },
  "language_info": {
   "codemirror_mode": {
    "name": "ipython",
    "version": 3
   },
   "file_extension": ".py",
   "mimetype": "text/x-python",
   "name": "python",
   "nbconvert_exporter": "python",
   "pygments_lexer": "ipython3",
   "version": "3.11.10"
  }
 },
 "nbformat": 4,
 "nbformat_minor": 2
}
