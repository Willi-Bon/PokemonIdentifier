{
 "cells": [
  {
   "cell_type": "code",
   "execution_count": 1,
   "metadata": {},
   "outputs": [
    {
     "name": "stdout",
     "output_type": "stream",
     "text": [
      "c:\\Users\\willi\\Documents\\Drexel\\Fall Quart 5\\MEM 679 - Machine Learning\\PokemonIdentifier-3\\PokemonIdentifier\\src\\DataFed\\datapath\n"
     ]
    }
   ],
   "source": [
    "# Import packages\n",
    "\n",
    "import os\n",
    "import getpass\n",
    "import subprocess\n",
    "from platform import platform\n",
    "import sys\n",
    "import datafed as df\n",
    "from datafed.CommandLib import API\n",
    "from datafed import version as df_ver\n",
    "\n",
    "try:\n",
    "    datapath = os.mkdir(\"./datapath\")\n",
    "    true_path = os.path.abspath(datapath)\n",
    "except:\n",
    "    datapath = \"./datapath\"\n",
    "    true_path = os.path.abspath(datapath)\n",
    "print(true_path)"
   ]
  },
  {
   "cell_type": "code",
   "execution_count": 2,
   "metadata": {},
   "outputs": [
    {
     "data": {
      "text/plain": [
       "'Windows-10-10.0.22631-SP0'"
      ]
     },
     "execution_count": 2,
     "metadata": {},
     "output_type": "execute_result"
    }
   ],
   "source": [
    "sys.version_info\n",
    "platform()"
   ]
  },
  {
   "cell_type": "code",
   "execution_count": 3,
   "metadata": {},
   "outputs": [
    {
     "name": "stdout",
     "output_type": "stream",
     "text": [
      "Success! You have DataFed: 3.0.2\n"
     ]
    },
    {
     "name": "stderr",
     "output_type": "stream",
     "text": [
      "c:\\Users\\willi\\Anaconda3\\envs\\PokemonIdentifier\\Lib\\site-packages\\datafed\\Connection.py:200: UserWarning: reflection.ParseMessage() is deprecated. Please use MessageFactory.GetMessageClass() and message.ParseFromString() instead. reflection.ParseMessage() will be removed in Jan 2025.\n",
      "  reply = google.protobuf.reflection.ParseMessage(desc, data)\n",
      "c:\\Users\\willi\\Anaconda3\\envs\\PokemonIdentifier\\Lib\\site-packages\\google\\protobuf\\reflection.py:59: UserWarning: reflection.MakeClass() is deprecated. Please use MessageFactory.GetMessageClass() instead. reflection.MakeClass() will be removed in Jan 2025.\n",
      "  result_class = MakeClass(descriptor)\n"
     ]
    }
   ],
   "source": [
    "df_api = API()\n",
    "\n",
    "print(\"Success! You have DataFed: \" + df_ver)"
   ]
  },
  {
   "cell_type": "code",
   "execution_count": 4,
   "metadata": {},
   "outputs": [
    {
     "name": "stdout",
     "output_type": "stream",
     "text": [
      "Success! You have been authenticated into DataFed as: u/willibon\n"
     ]
    }
   ],
   "source": [
    "if df_api.getAuthUser():\n",
    "    print(\n",
    "        \"Success! You have been authenticated into DataFed as: \" + df_api.getAuthUser()\n",
    "    )\n",
    "else:\n",
    "    print(\"You have not authenticated into DataFed Client\")\n",
    "    print(\n",
    "        'Please follow instructions in the \"Basic Configuration\" section in the link below to authenticate yourself:'\n",
    "    )\n",
    "    print(\"https://ornl.github.io/DataFed/user/client/install.html#basic-configuration\")"
   ]
  },
  {
   "cell_type": "code",
   "execution_count": 5,
   "metadata": {},
   "outputs": [
    {
     "name": "stdout",
     "output_type": "stream",
     "text": [
      "Your default Globus Endpoint in DataFed is:\n",
      "a8c9a8f4-b71a-11ef-b839-115107518ebc\n"
     ]
    }
   ],
   "source": [
    "if not df_api.endpointDefaultGet():\n",
    "    print(\"Please follow instructions in the link below to find your Globus Endpoint:\")\n",
    "    print(\n",
    "        \"https://ornl.github.io/DataFed/system/getting_started.html#install-identify-globus-endpoint\"\n",
    "    )\n",
    "    endpoint = input(\n",
    "        \"\\nPlease enter either the Endpoint UUID or Legacy Name for your Globus Endpoint: \"\n",
    "    )\n",
    "    df_api.endpointDefaultSet(endpoint)\n",
    "\n",
    "print(\"Your default Globus Endpoint in DataFed is:\\n\" + df_api.endpointDefaultGet())"
   ]
  },
  {
   "cell_type": "code",
   "execution_count": 8,
   "metadata": {},
   "outputs": [
    {
     "ename": "KeyboardInterrupt",
     "evalue": "",
     "output_type": "error",
     "traceback": [
      "\u001b[1;31m---------------------------------------------------------------------------\u001b[0m",
      "\u001b[1;31mKeyboardInterrupt\u001b[0m                         Traceback (most recent call last)",
      "Cell \u001b[1;32mIn[8], line 2\u001b[0m\n\u001b[0;32m      1\u001b[0m \u001b[38;5;66;03m# This is a dataGet Command\u001b[39;00m\n\u001b[1;32m----> 2\u001b[0m dget_resp \u001b[38;5;241m=\u001b[39m \u001b[43mdf_api\u001b[49m\u001b[38;5;241;43m.\u001b[39;49m\u001b[43mdataGet\u001b[49m\u001b[43m(\u001b[49m\u001b[38;5;124;43m\"\u001b[39;49m\u001b[38;5;124;43md/525641502\u001b[39;49m\u001b[38;5;124;43m\"\u001b[39;49m\u001b[43m,\u001b[49m\u001b[43m \u001b[49m\u001b[43mtrue_path\u001b[49m\u001b[43m,\u001b[49m\u001b[43m \u001b[49m\u001b[43mwait\u001b[49m\u001b[38;5;241;43m=\u001b[39;49m\u001b[38;5;28;43;01mTrue\u001b[39;49;00m\u001b[43m)\u001b[49m\n\u001b[0;32m      3\u001b[0m dget_resp\n",
      "File \u001b[1;32mc:\\Users\\willi\\Anaconda3\\envs\\PokemonIdentifier\\Lib\\site-packages\\datafed\\CommandLib.py:778\u001b[0m, in \u001b[0;36mAPI.dataGet\u001b[1;34m(self, item_id, path, encrypt, orig_fname, wait, timeout_sec, context)\u001b[0m\n\u001b[0;32m    775\u001b[0m elapsed \u001b[38;5;241m=\u001b[39m \u001b[38;5;241m0\u001b[39m\n\u001b[0;32m    777\u001b[0m \u001b[38;5;28;01mwhile\u001b[39;00m \u001b[38;5;28;01mTrue\u001b[39;00m:\n\u001b[1;32m--> 778\u001b[0m     time\u001b[38;5;241m.\u001b[39msleep(\u001b[38;5;241m4\u001b[39m)\n\u001b[0;32m    779\u001b[0m     elapsed \u001b[38;5;241m=\u001b[39m elapsed \u001b[38;5;241m+\u001b[39m \u001b[38;5;241m4\u001b[39m\n\u001b[0;32m    781\u001b[0m     reply2 \u001b[38;5;241m=\u001b[39m \u001b[38;5;28mself\u001b[39m\u001b[38;5;241m.\u001b[39m_mapi\u001b[38;5;241m.\u001b[39msendRecv(msg2, nack_except\u001b[38;5;241m=\u001b[39m\u001b[38;5;28;01mFalse\u001b[39;00m)\n",
      "\u001b[1;31mKeyboardInterrupt\u001b[0m: "
     ]
    }
   ],
   "source": [
    "# This is a dataGet Command\n",
    "dget_resp = df_api.dataGet(\"d/525641502\", true_path, wait=True)\n",
    "dget_resp"
   ]
  },
  {
   "cell_type": "code",
   "execution_count": 9,
   "metadata": {},
   "outputs": [
    {
     "name": "stdout",
     "output_type": "stream",
     "text": [
      "You are not running as an admin, if you are not running as an admin, please restart the kernel as an admin\n"
     ]
    }
   ],
   "source": [
    "import ctypes, os\n",
    "\n",
    "try:\n",
    "    is_admin = os.getuid() == 0\n",
    "except AttributeError:\n",
    "    is_admin = ctypes.windll.shell32.IsUserAnAdmin() != 0\n",
    "\n",
    "value = \"\"\n",
    "if not is_admin:\n",
    "    value = \"not \"\n",
    "\n",
    "print(f\"You are {value}running as an admin, if you are not running as an admin, please restart the kernel as an admin\")"
   ]
  }
 ],
 "metadata": {
  "kernelspec": {
   "display_name": "PokemonIdentifier",
   "language": "python",
   "name": "python3"
  },
  "language_info": {
   "codemirror_mode": {
    "name": "ipython",
    "version": 3
   },
   "file_extension": ".py",
   "mimetype": "text/x-python",
   "name": "python",
   "nbconvert_exporter": "python",
   "pygments_lexer": "ipython3",
   "version": "3.11.10"
  }
 },
 "nbformat": 4,
 "nbformat_minor": 2
}
