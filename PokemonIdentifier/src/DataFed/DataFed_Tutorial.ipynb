{
 "cells": [
  {
   "cell_type": "code",
   "execution_count": 1,
   "metadata": {},
   "outputs": [
    {
     "name": "stderr",
     "output_type": "stream",
     "text": [
      "c:\\Users\\willi\\Anaconda3\\envs\\PokemonIdentifier\\Lib\\site-packages\\datafed\\Connection.py:200: UserWarning: reflection.ParseMessage() is deprecated. Please use MessageFactory.GetMessageClass() and message.ParseFromString() instead. reflection.ParseMessage() will be removed in Jan 2025.\n",
      "  reply = google.protobuf.reflection.ParseMessage(desc, data)\n",
      "c:\\Users\\willi\\Anaconda3\\envs\\PokemonIdentifier\\Lib\\site-packages\\google\\protobuf\\reflection.py:59: UserWarning: reflection.MakeClass() is deprecated. Please use MessageFactory.GetMessageClass() instead. reflection.MakeClass() will be removed in Jan 2025.\n",
      "  result_class = MakeClass(descriptor)\n"
     ]
    }
   ],
   "source": [
    "import os\n",
    "import json\n",
    "import tkinter as tk\n",
    "from tkinter import filedialog\n",
    "from datafed.CommandLib import API\n",
    "import time\n",
    "\n",
    "df_api = API()\n",
    "df_api.setContext(\"p/mem679-fall2024\") #Instantiate\n",
    "collection_id = \"c/525610814\" #Sets Collection ID"
   ]
  },
  {
   "cell_type": "code",
   "execution_count": null,
   "metadata": {},
   "outputs": [],
   "source": [
    "def create_record(data_path):\n",
    "    title = \"Garfield\"\n",
    "    description = \"I Love Lasagna\"\n",
    "        # Create the record in Datafed\n",
    "    rec_resp = df_api.dataCreate(\n",
    "        title, \n",
    "        metadata=json.dumps({\"Title\": title, \"Description\": description, \"Authorship\":\"William Bonnecaze\",\"Affiliation\":\"Drexel University\", \"Datatype\":\"Image\", \"Dataformat\":\".png\",\"Keywords\":\"Pokemon, Augmented Reality, Identification, Machine Learning\"}), \n",
    "        parent_id=collection_id\n",
    "    )\n",
    "    # Extract the ID of the new data record\n",
    "    this_rec_id = rec_resp[0].data[0].id\n",
    "    print(this_rec_id)\n",
    "\n",
    "    put_resp = df_api.dataPut(data_id = this_rec_id, path = data_path, wait=False)\n",
    "    print(put_resp)\n",
    "\n",
    "    #task_id = put_resp[0].task.id\n",
    "    return \n",
    "\n",
    "\n",
    "def upload_images_in_folder(folder_path):\n",
    "    # Iterate through all JPG files in the selected folder\n",
    "    for filename in os.listdir(folder_path):\n",
    "        if filename.lower().endswith('.jpg'):\n",
    "            file_path = os.path.join(folder_path, filename)\n",
    "            print(filename)\n",
    "            print(f\"Uploading: {file_path}\")\n",
    "            create_record(file_path)\n",
    "\n",
    "    print(\"All images uploaded.\")"
   ]
  },
  {
   "cell_type": "code",
   "execution_count": null,
   "metadata": {},
   "outputs": [],
   "source": [
    "# Call the function to start the upload process\n",
    "root = tk.Tk()\n",
    "root.withdraw()  # Hide the root window\n",
    "folder_path = filedialog.askdirectory(title=\"Select Folder with JPG Images\")\n",
    "upload_images_in_folder(folder_path)\n",
    "print(\"Done\")"
   ]
  }
 ],
 "metadata": {
  "kernelspec": {
   "display_name": "PokemonIdentifier",
   "language": "python",
   "name": "python3"
  },
  "language_info": {
   "codemirror_mode": {
    "name": "ipython",
    "version": 3
   },
   "file_extension": ".py",
   "mimetype": "text/x-python",
   "name": "python",
   "nbconvert_exporter": "python",
   "pygments_lexer": "ipython3",
   "version": "3.11.10"
  }
 },
 "nbformat": 4,
 "nbformat_minor": 2
}
