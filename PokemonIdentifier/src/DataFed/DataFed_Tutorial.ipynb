{
 "cells": [
  {
   "cell_type": "code",
   "execution_count": null,
   "metadata": {},
   "outputs": [
    {
     "name": "stderr",
     "output_type": "stream",
     "text": [
      "c:\\Users\\willi\\Anaconda3\\envs\\PokemonIdentifier\\Lib\\site-packages\\datafed\\Connection.py:200: UserWarning: reflection.ParseMessage() is deprecated. Please use MessageFactory.GetMessageClass() and message.ParseFromString() instead. reflection.ParseMessage() will be removed in Jan 2025.\n",
      "  reply = google.protobuf.reflection.ParseMessage(desc, data)\n",
      "c:\\Users\\willi\\Anaconda3\\envs\\PokemonIdentifier\\Lib\\site-packages\\google\\protobuf\\reflection.py:59: UserWarning: reflection.MakeClass() is deprecated. Please use MessageFactory.GetMessageClass() instead. reflection.MakeClass() will be removed in Jan 2025.\n",
      "  result_class = MakeClass(descriptor)\n"
     ]
    }
   ],
   "source": [
    "import os\n",
    "import json\n",
    "import random\n",
    "import tkinter as tk\n",
    "from tkinter import filedialog\n",
    "from datafed.CommandLib import API\n",
    "import time\n",
    "\n",
    "df_api = API()\n",
    "df_api.setContext(\"p/mem679-fall2024\") #Instantiate\n",
    "collection_id = \"c/525610814\" #Sets Collection ID"
   ]
  },
  {
   "cell_type": "code",
   "execution_count": null,
   "metadata": {},
   "outputs": [],
   "source": [
    "def create_record(data_path):\n",
    "    title = \"Garfield\"\n",
    "    description = \"I Love Lasagna\"\n",
    "        # Create the record in Datafed\n",
    "    rec_resp = df_api.dataCreate(\n",
    "        title, \n",
    "        metadata=json.dumps({\"Title\": title, \"Description\": description, \"Authorship\":\"William Bonnecaze\",\"Affiliation\":\"Drexel University\", \"Datatype\":\"Image\", \"Dataformat\":\".png\",\"Keywords\":\"Pokemon, Augmented Reality, Identification, Machine Learning\"}), \n",
    "        parent_id=collection_id\n",
    "    )\n",
    "    # Extract the ID of the new data record\n",
    "    this_rec_id = rec_resp[0].data[0].id\n",
    "    print(this_rec_id)\n",
    "\n",
    "    put_resp = df_api.dataPut(data_id = this_rec_id, path = data_path, wait=False)\n",
    "    print(put_resp)\n",
    "\n",
    "    #task_id = put_resp[0].task.id\n",
    "    return "
   ]
  },
  {
   "cell_type": "code",
   "execution_count": 66,
   "metadata": {},
   "outputs": [
    {
     "name": "stdout",
     "output_type": "stream",
     "text": [
      "d/525641911\n",
      "(item {\n",
      "  id: \"d/525641911\"\n",
      "  title: \"Garfield_525641911\"\n",
      "  size: 0\n",
      "  owner: \"p/mem679-fall2024\"\n",
      "}\n",
      "task {\n",
      "  id: \"task/525755927\"\n",
      "  type: TT_DATA_PUT\n",
      "  status: TS_READY\n",
      "  client: \"u/willibon\"\n",
      "  step: 0\n",
      "  steps: 2\n",
      "  msg: \"Pending\"\n",
      "  ct: 1733615391\n",
      "  ut: 1733615391\n",
      "  source: \"3e969b4c-af2f-11ef-8876-f349fadc53c5/C/Users/willi/Documents/SadSalad.jpg\"\n",
      "  dest: \"d/525641911\"\n",
      "}\n",
      ", 'DataPutReply')\n",
      "Done\n"
     ]
    },
    {
     "name": "stderr",
     "output_type": "stream",
     "text": [
      "c:\\Users\\willi\\Anaconda3\\envs\\PokemonIdentifier\\Lib\\site-packages\\datafed\\Connection.py:200: UserWarning: reflection.ParseMessage() is deprecated. Please use MessageFactory.GetMessageClass() and message.ParseFromString() instead. reflection.ParseMessage() will be removed in Jan 2025.\n",
      "  reply = google.protobuf.reflection.ParseMessage(desc, data)\n",
      "c:\\Users\\willi\\Anaconda3\\envs\\PokemonIdentifier\\Lib\\site-packages\\google\\protobuf\\reflection.py:59: UserWarning: reflection.MakeClass() is deprecated. Please use MessageFactory.GetMessageClass() instead. reflection.MakeClass() will be removed in Jan 2025.\n",
      "  result_class = MakeClass(descriptor)\n"
     ]
    }
   ],
   "source": [
    "path = \"C:\\\\Users\\\\willi\\\\Documents\\\\SadSalad.jpg\"\n",
    "create_record(path)\n",
    "print(\"Done\")\n"
   ]
  },
  {
   "cell_type": "code",
   "execution_count": null,
   "metadata": {},
   "outputs": [],
   "source": []
  },
  {
   "cell_type": "code",
   "execution_count": null,
   "metadata": {},
   "outputs": [],
   "source": []
  }
 ],
 "metadata": {
  "kernelspec": {
   "display_name": "PokemonIdentifier",
   "language": "python",
   "name": "python3"
  },
  "language_info": {
   "codemirror_mode": {
    "name": "ipython",
    "version": 3
   },
   "file_extension": ".py",
   "mimetype": "text/x-python",
   "name": "python",
   "nbconvert_exporter": "python",
   "pygments_lexer": "ipython3",
   "version": "3.11.10"
  }
 },
 "nbformat": 4,
 "nbformat_minor": 2
}
