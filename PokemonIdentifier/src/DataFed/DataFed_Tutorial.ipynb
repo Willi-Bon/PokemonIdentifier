{
 "cells": [
  {
   "cell_type": "code",
   "execution_count": 45,
   "metadata": {},
   "outputs": [
    {
     "name": "stderr",
     "output_type": "stream",
     "text": [
      "c:\\Users\\willi\\Anaconda3\\envs\\PokemonIdentifier\\Lib\\site-packages\\datafed\\Connection.py:200: UserWarning: reflection.ParseMessage() is deprecated. Please use MessageFactory.GetMessageClass() and message.ParseFromString() instead. reflection.ParseMessage() will be removed in Jan 2025.\n",
      "  reply = google.protobuf.reflection.ParseMessage(desc, data)\n",
      "c:\\Users\\willi\\Anaconda3\\envs\\PokemonIdentifier\\Lib\\site-packages\\google\\protobuf\\reflection.py:59: UserWarning: reflection.MakeClass() is deprecated. Please use MessageFactory.GetMessageClass() instead. reflection.MakeClass() will be removed in Jan 2025.\n",
      "  result_class = MakeClass(descriptor)\n"
     ]
    }
   ],
   "source": [
    "import os\n",
    "import json\n",
    "import random\n",
    "import tkinter as tk\n",
    "from tkinter import filedialog\n",
    "from datafed.CommandLib import API\n",
    "import time\n",
    "\n",
    "df_api = API()\n",
    "df_api.setContext(\"p/mem679-fall2024\") #Instantiate\n",
    "collection_id = \"c/525610793\" #Sets Collection ID"
   ]
  },
  {
   "cell_type": "code",
   "execution_count": null,
   "metadata": {},
   "outputs": [],
   "source": [
    "def upload_zipped_folder(train_coll_id=None):\n",
    "    #zipped_folder_path = \"C:\\\\Users\\\\willi\\\\Documents\\\\Drexel\\\\Fall Quart 5\\\\MEM 679 - Machine Learning\\\\pokemon_images\\\\Pokemon_Dataset_Full.zip\"\n",
    "    zipped_folder_path =\"C:\\\\Users\\\\willi\\\\Documents\\\\Pokemon_Dataset_Full.zip\"\n",
    "    # Determine the animal type and create a title for the data record\n",
    "    title = \"Pokemon Training Dataset\"\n",
    "    description = \"Dataset containing images that emulate the effect of Pokemon Go's AR feature which allows images of Pokemon to be taken in real world locations. Images of pokemon came from https://pokemon.gameinfo.io/\"\n",
    "    \n",
    "    # Create the record in Datafed\n",
    "    rec_resp = df_api.dataCreate(\n",
    "        title, metadata=json.dumps({\"Title\": title, \"Description\": description, \"Authorship\":\"William Bonnecaze\",\"Affiliation\":\"Drexel University\", \"Datatype\":\"Image\", \"Dataformat\":\".png\",\"Keywords\":\"Pokemon, Augmented Reality, Identification, Machine Learning\"}), parent_id=collection_id\n",
    "    )\n",
    "    \n",
    "    # Extract the ID of the new data record\n",
    "    this_rec_id = rec_resp[0].data[0].id\n",
    "    \n",
    "    # Upload the zip file to the record\n",
    "    print(this_rec_id)\n",
    "    put_resp = df_api.dataPut(this_rec_id, zipped_folder_path)\n",
    "    print(put_resp)\n",
    "    \n",
    "    print(f\"Uploaded {zipped_folder_path} with record ID {this_rec_id}\")"
   ]
  },
  {
   "cell_type": "code",
   "execution_count": 47,
   "metadata": {},
   "outputs": [
    {
     "name": "stdout",
     "output_type": "stream",
     "text": [
      "d/525639752\n",
      "(item {\n",
      "  id: \"d/525639752\"\n",
      "  title: \"Pokemon Training Dataset\"\n",
      "  size: 0\n",
      "  owner: \"p/mem679-fall2024\"\n",
      "}\n",
      "task {\n",
      "  id: \"task/525747904\"\n",
      "  type: TT_DATA_PUT\n",
      "  status: TS_READY\n",
      "  client: \"u/willibon\"\n",
      "  step: 0\n",
      "  steps: 2\n",
      "  msg: \"Pending\"\n",
      "  ct: 1733000138\n",
      "  ut: 1733000138\n",
      "  source: \"Bonnecaze-William_GlobusCollection/C/Users/willi/Documents/Drexel/Fall Quart 5/MEM 679 - Machine Learning/pokemon_images/Pokemon_Dataset_Full.zip\"\n",
      "  dest: \"d/525639752\"\n",
      "}\n",
      ", 'DataPutReply')\n",
      "Uploaded C:\\Users\\willi\\Documents\\Drexel\\Fall Quart 5\\MEM 679 - Machine Learning\\pokemon_images\\Pokemon_Dataset_Full.zip with record ID d/525639752\n",
      "Done\n"
     ]
    }
   ],
   "source": [
    "upload_zipped_folder()\n",
    "print(\"Done\")\n"
   ]
  }
 ],
 "metadata": {
  "kernelspec": {
   "display_name": "PokemonIdentifier",
   "language": "python",
   "name": "python3"
  },
  "language_info": {
   "codemirror_mode": {
    "name": "ipython",
    "version": 3
   },
   "file_extension": ".py",
   "mimetype": "text/x-python",
   "name": "python",
   "nbconvert_exporter": "python",
   "pygments_lexer": "ipython3",
   "version": "3.11.10"
  }
 },
 "nbformat": 4,
 "nbformat_minor": 2
}
