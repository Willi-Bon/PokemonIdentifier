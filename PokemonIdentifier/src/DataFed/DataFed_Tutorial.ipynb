{
 "cells": [
  {
   "cell_type": "code",
   "execution_count": 7,
   "metadata": {},
   "outputs": [],
   "source": [
    "import os\n",
    "import json\n",
    "import tkinter as tk\n",
    "from tkinter import filedialog\n",
    "from datafed.CommandLib import API\n",
    "import time\n",
    "\n",
    "df_api = API()\n",
    "df_api.setContext(\"p/mem679-fall2024\") #Instantiate\n",
    "collection_id = \"c/525610793\" #Sets Collection ID"
   ]
  },
  {
   "cell_type": "code",
   "execution_count": 8,
   "metadata": {},
   "outputs": [],
   "source": [
    "def create_record(data_path):\n",
    "    title = \"Pokemon Dataset 768x1666\"\n",
    "    description = \"Pokemon dataset. Zip file contains jpgs instead of pngs for space purposes.\"\n",
    "        # Create the record in Datafed\n",
    "    rec_resp = df_api.dataCreate(\n",
    "        title, \n",
    "        metadata=json.dumps({\"Title\": title, \"Description\": description, \"Authorship\":\"William Bonnecaze\",\"Affiliation\":\"Drexel University\", \"Datatype\":\"Image\", \"Dataformat\":\".png\",\"Keywords\":\"Pokemon, Augmented Reality, Identification, Machine Learning\"}), \n",
    "        parent_id=collection_id\n",
    "    )\n",
    "    # Extract the ID of the new data record\n",
    "    this_rec_id = rec_resp[0].data[0].id\n",
    "    print(this_rec_id)\n",
    "\n",
    "    put_resp = df_api.dataPut(data_id = this_rec_id, path = data_path, wait=False)\n",
    "    print(put_resp)\n",
    "\n",
    "    #task_id = put_resp[0].task.id\n",
    "    return \n",
    "\n",
    "\n",
    "def upload_images_in_folder(folder_path):\n",
    "    # Iterate through all JPG files in the selected folder\n",
    "    for filename in os.listdir(folder_path):\n",
    "        if filename.lower().endswith('.jpg'):\n",
    "            file_path = os.path.join(folder_path, filename)\n",
    "            print(filename)\n",
    "            print(f\"Uploading: {file_path}\")\n",
    "            create_record(file_path)\n",
    "\n",
    "    print(\"All images uploaded.\")"
   ]
  },
  {
   "cell_type": "code",
   "execution_count": 9,
   "metadata": {},
   "outputs": [
    {
     "name": "stdout",
     "output_type": "stream",
     "text": [
      "d/525645423\n",
      "(item {\n",
      "  id: \"d/525645423\"\n",
      "  title: \"Pokemon Dataset 768x1666\"\n",
      "  size: 0\n",
      "  owner: \"p/mem679-fall2024\"\n",
      "}\n",
      "task {\n",
      "  id: \"task/525759314\"\n",
      "  type: TT_DATA_PUT\n",
      "  status: TS_READY\n",
      "  client: \"u/willibon\"\n",
      "  step: 0\n",
      "  steps: 2\n",
      "  msg: \"Pending\"\n",
      "  ct: 1733674147\n",
      "  ut: 1733674147\n",
      "  source: \"3e969b4c-af2f-11ef-8876-f349fadc53c5/C/Users/willi/Documents/Drexel/Fall Quart 5/MEM 679 - Machine Learning/pokemon_images/PokemonDataset_120824.zip\"\n",
      "  dest: \"d/525645423\"\n",
      "}\n",
      ", 'DataPutReply')\n",
      "Done\n"
     ]
    }
   ],
   "source": [
    "# Call the function to start the upload process\n",
    "\n",
    "#root = tk.Tk()\n",
    "#root.withdraw()  # Hide the root window\n",
    "#folder_path = filedialog.askdirectory(title=\"Select Folder with JPG Images\")\n",
    "#upload_images_in_folder(folder_path)\n",
    "create_record(\"C:\\\\Users\\\\willi\\\\Documents\\\\Drexel\\\\Fall Quart 5\\\\MEM 679 - Machine Learning\\\\pokemon_images\\\\PokemonDataset_120824.zip\")\n",
    "print(\"Done\")"
   ]
  }
 ],
 "metadata": {
  "kernelspec": {
   "display_name": "PokemonIdentifier",
   "language": "python",
   "name": "python3"
  },
  "language_info": {
   "codemirror_mode": {
    "name": "ipython",
    "version": 3
   },
   "file_extension": ".py",
   "mimetype": "text/x-python",
   "name": "python",
   "nbconvert_exporter": "python",
   "pygments_lexer": "ipython3",
   "version": "3.11.10"
  }
 },
 "nbformat": 4,
 "nbformat_minor": 2
}
